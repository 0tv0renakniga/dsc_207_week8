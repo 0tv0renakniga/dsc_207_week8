{
  "cells": [
    {
      "cell_type": "markdown",
      "metadata": {
        "id": "oT0u26qVEND9"
      },
      "source": [
        "# Week 8 Study Notebook\n",
        "\n",
        "# UC San Diego OMDS DSC 207"
      ]
    },
    {
      "cell_type": "markdown",
      "metadata": {
        "id": "uzDhH-DmQzfT"
      },
      "source": [
        "## Imports"
      ]
    },
    {
      "cell_type": "code",
      "execution_count": 7,
      "metadata": {
        "id": "uH_bW7qT-6-E"
      },
      "outputs": [],
      "source": [
        "#LOAD LIBRARIES\n",
        "import matplotlib.pyplot as plt\n",
        "import sklearn\n",
        "import pandas as pd\n",
        "import os"
      ]
    },
    {
      "cell_type": "markdown",
      "metadata": {
        "deletable": false,
        "editable": false,
        "id": "EgfcIVBXEMI8"
      },
      "source": [
        "# Part 1: Clustering"
      ]
    },
    {
      "cell_type": "markdown",
      "metadata": {
        "deletable": false,
        "editable": false,
        "id": "vmsAlzTJG5-H"
      },
      "source": [
        "#### 1.1 For our KMeans clustering task, read only the following columns into a dataframe `X` using the following link: https://gist.githubusercontent.com/netj/8836201/raw/.\n",
        "\n",
        "1. \"sepal.length\"\n",
        "2. \"sepal.width\"\n",
        "3. \"petal.length\"\n",
        "4. \"petal.width\"\n",
        "\n",
        "Print the head() of `X`. [1 pt]"
      ]
    },
    {
      "cell_type": "code",
      "execution_count": 18,
      "metadata": {
        "id": "m7Nec9l8QzfV",
        "tags": []
      },
      "outputs": [
        {
          "name": "stdout",
          "output_type": "stream",
          "text": [
            "   sepal.length  sepal.width  petal.length  petal.width\n",
            "0           5.1          3.5           1.4          0.2\n",
            "1           4.9          3.0           1.4          0.2\n",
            "2           4.7          3.2           1.3          0.2\n",
            "3           4.6          3.1           1.5          0.2\n",
            "4           5.0          3.6           1.4          0.2\n"
          ]
        }
      ],
      "source": [
        "# set the working directory\n",
        "os.chdir('/home/scotty/dsc_207_week8')\n",
        "\n",
        "# create pandas dataframe df from week8.csv \n",
        "df = pd.read_csv('week8.csv')\n",
        "\n",
        "# define X by drop variety column \n",
        "X = df.drop(columns=['variety'])\n",
        "# print head of X\n",
        "print(X.head())"
      ]
    },
    {
      "cell_type": "markdown",
      "metadata": {
        "deletable": false,
        "editable": false,
        "id": "SyJZTIvxHecr"
      },
      "source": [
        "<!-- END QUESTION -->\n",
        "\n",
        "<!-- BEGIN QUESTION -->\n",
        "\n",
        "#### 1.2 Defining the model\n",
        "\n",
        "Import and define a model using <a href='http://scikit-learn.org/stable/modules/generated/sklearn.cluster.KMeans.html'>sklearn.cluster.kmeans</a> [0.5 pt].<br>\n",
        "**Pick any value for the number of clusters for now.**<br>\n"
      ]
    },
    {
      "cell_type": "code",
      "execution_count": 19,
      "metadata": {
        "id": "B8R7tx2PQzfV",
        "tags": []
      },
      "outputs": [],
      "source": [
        "# define number of clusters based on unique members in categorical data(X['variety'])\n",
        "clusters = df.variety.nunique()\n",
        "\n",
        "# define kmeans model from sklearn\n",
        "kmeans = sklearn.cluster.KMeans(n_clusters=clusters, random_state=42)"
      ]
    },
    {
      "cell_type": "markdown",
      "metadata": {
        "deletable": false,
        "editable": false,
        "id": "O_2TtOcgHzvb"
      },
      "source": [
        "#### 1.3 [Fit and predict](https://scikit-learn.org/stable/modules/generated/sklearn.cluster.KMeans.html#sklearn.cluster.KMeans.fit_predict) the kmeans model on `X`. Print the predicted values. [0.5 pt]"
      ]
    },
    {
      "cell_type": "code",
      "execution_count": 20,
      "metadata": {
        "id": "FUx7jc5NQzfV",
        "tags": []
      },
      "outputs": [
        {
          "name": "stdout",
          "output_type": "stream",
          "text": [
            "[1 1 1 1 1 1 1 1 1 1 1 1 1 1 1 1 1 1 1 1 1 1 1 1 1 1 1 1 1 1 1 1 1 1 1 1 1\n",
            " 1 1 1 1 1 1 1 1 1 1 1 1 1 0 2 0 2 2 2 2 2 2 2 2 2 2 2 2 2 2 2 2 2 2 2 2 2\n",
            " 2 2 2 0 2 2 2 2 2 2 2 2 2 2 2 2 2 2 2 2 2 2 2 2 2 2 0 2 0 0 0 0 2 0 0 0 0\n",
            " 0 0 2 2 0 0 0 0 2 0 2 0 2 0 0 2 2 0 0 0 0 0 2 0 0 0 0 2 0 0 0 2 0 0 0 2 0\n",
            " 0 2]\n"
          ]
        }
      ],
      "source": [
        "# fit X using sklearn KMeans model\n",
        "kmeans.fit(X)\n",
        "\n",
        "# predict kmeans model on X.. predict cluster for each point in dataframe X\n",
        "y_kmeans = kmeans.predict(X)\n",
        "\n",
        "# print predictied values from the kmeans model(y_kmeans)\n",
        "print(y_kmeans)"
      ]
    },
    {
      "cell_type": "markdown",
      "metadata": {
        "deletable": false,
        "editable": false,
        "id": "Ez-Z0uGqEtb0"
      },
      "source": [
        "#### 1.4 Print the center points of the clusters that the model created. (Hint - look into the documentation to see how we can easily find it) [0.5 pt]"
      ]
    },
    {
      "cell_type": "code",
      "execution_count": 21,
      "metadata": {
        "id": "K-pwz4oOQzfV",
        "tags": []
      },
      "outputs": [
        {
          "name": "stdout",
          "output_type": "stream",
          "text": [
            "[[6.85384615 3.07692308 5.71538462 2.05384615]\n",
            " [5.006      3.428      1.462      0.246     ]\n",
            " [5.88360656 2.74098361 4.38852459 1.43442623]]\n"
          ]
        }
      ],
      "source": [
        "# find center points using sklearn.clusters.KMeans attribute cluster_centers_\n",
        "kmeans_centers = kmeans.cluster_centers_\n",
        "\n",
        "# print the kmeans cluster centers\n",
        "print(kmeans_centers)"
      ]
    },
    {
      "cell_type": "markdown",
      "metadata": {
        "deletable": false,
        "editable": false,
        "id": "S1_NE5oOKLIH"
      },
      "source": [
        "#### 1.5 Find and print the [silhouette score](https://scikit-learn.org/stable/modules/generated/sklearn.metrics.silhouette_score.html) of the the data using the current model. [0.5 pt]"
      ]
    },
    {
      "cell_type": "code",
      "execution_count": 26,
      "metadata": {
        "id": "_2ASjNwVQzfW",
        "tags": []
      },
      "outputs": [
        {
          "name": "stdout",
          "output_type": "stream",
          "text": [
            "0.5511916046195927\n"
          ]
        }
      ],
      "source": [
        "# use silhouette_score method from sklearn to find silhouette score of X, y_means\n",
        "# note: silhouette score is a metric used to evaluate the quality of a clustering result(the kmeans model)\n",
        "sil_score = sklearn.metrics.silhouette_score(X,y_kmeans)\n",
        "\n",
        "# print silhouette score for data X\n",
        "# note: a silhouette score of ~0.55 means our clustering from the kmeans model is reasonable\n",
        "print(sil_score)\n"
      ]
    },
    {
      "cell_type": "markdown",
      "metadata": {
        "deletable": false,
        "editable": false,
        "id": "yo0kZGFALzNq"
      },
      "source": [
        "<!-- END QUESTION -->\n",
        "\n",
        "### Visualization"
      ]
    },
    {
      "cell_type": "code",
      "execution_count": 27,
      "metadata": {
        "id": "gnBysZNBBRTk"
      },
      "outputs": [
        {
          "data": {
            "image/png": "[encoded data removed]",
            "text/plain": [
              "<Figure size 640x480 with 1 Axes>"
            ]
          },
          "metadata": {},
          "output_type": "display_data"
        }
      ],
      "source": [
        "# Run this cell to see clusters being formed for pairs of features. Make sure to have as many colors as k and you have used similar naming of variables (update the cell below if not).\n",
        "plt.scatter(data=X, x='sepal.length', y='sepal.width')\n",
        "colors = ['r', 'y', 'b', 'c', 'm', 'g', 'k', 'w','orange']\n",
        "for i, coor in enumerate(kmeans.cluster_centers_):\n",
        "  plt.scatter(coor[0], coor[1], s=200, c=colors[i], marker='s')\n",
        "plt.show()"
      ]
    },
    {
      "cell_type": "markdown",
      "metadata": {
        "id": "OpLr0VkgKhaW"
      },
      "source": [
        "### Experimentation\n",
        "\n",
        "We chose an arbitrary value of k for the above experiment. In the lecture videos, we saw that elbow method is one of the ways to make a better guess for the value of k, although not always useful."
      ]
    },
    {
      "cell_type": "code",
      "execution_count": null,
      "metadata": {
        "id": "D8zPL4YHAnns"
      },
      "outputs": [],
      "source": [
        "#Run this cell. Make sure you update the variable names if required.\n",
        "from sklearn.cluster import KMeans\n",
        "wcss = []\n",
        "\n",
        "for i in range(1, 10): #Specify for which values of k you want to try\n",
        "    kmeans = KMeans(n_clusters = i, init = 'k-means++', max_iter = 300, n_init = 10, random_state = 0)\n",
        "    kmeans.fit(X)\n",
        "    wcss.append(kmeans.inertia_)"
      ]
    },
    {
      "cell_type": "code",
      "execution_count": null,
      "metadata": {
        "id": "KcQI-N8BA4FG"
      },
      "outputs": [],
      "source": [
        "#Run this cell\n",
        "plt.plot(range(1, 10), wcss) #Specify for which values of k you want to try\n",
        "plt.title('Elbow method - Line chart')\n",
        "plt.xlabel('Number of clusters')\n",
        "plt.ylabel('WCSS') #within cluster sum of squares\n",
        "plt.show()"
      ]
    },
    {
      "cell_type": "markdown",
      "metadata": {
        "deletable": false,
        "editable": false,
        "id": "QMjB5KX7LOQ1"
      },
      "source": [
        "#### 1.6 Based on the videos, what can you infer from the elbow graph created? what should be a good value of k (number of clusters)? [0.5 pt]"
      ]
    },
    {
      "cell_type": "markdown",
      "metadata": {
        "id": "Xg_CJjPDQzfW"
      },
      "source": [
        "_Type your answer here, replacing this text._"
      ]
    },
    {
      "cell_type": "markdown",
      "metadata": {
        "id": "Tx0wh-p3vt2y"
      },
      "source": [
        "# Part 2: Neural Networks\n"
      ]
    },
    {
      "cell_type": "markdown",
      "metadata": {
        "id": "i8W4by866Hcs"
      },
      "source": [
        "For this section, we will be working with the CIFAR-10 dataset.\n",
        "\n",
        "The CIFAR-10 dataset consists of 32x32 color images, with the 10 classes below:\n",
        "* airplane\n",
        "* automobile\n",
        "* bird\n",
        "* cat\n",
        "* deer\n",
        "* dog\n",
        "* frog\n",
        "* horse\n",
        "* ship\n",
        "* truck\n"
      ]
    },
    {
      "cell_type": "markdown",
      "metadata": {
        "id": "CslwfUft83kn"
      },
      "source": [
        "The cells below will load and visualize the data for you."
      ]
    },
    {
      "cell_type": "code",
      "execution_count": null,
      "metadata": {
        "id": "TfDgbflJ3ypl"
      },
      "outputs": [],
      "source": [
        "# Load libraries\n",
        "import numpy as np\n",
        "import matplotlib.pyplot as plt\n",
        "from sklearn.neural_network import MLPClassifier\n",
        "from sklearn.datasets import fetch_openml\n",
        "from sklearn.model_selection import train_test_split\n",
        "from sklearn.preprocessing import StandardScaler\n",
        "from sklearn.metrics import classification_report, confusion_matrix"
      ]
    },
    {
      "cell_type": "markdown",
      "metadata": {
        "id": "NE572ZNppmfs"
      },
      "source": [
        "**Note**: The datset might take ~5 mins to load"
      ]
    },
    {
      "cell_type": "code",
      "execution_count": null,
      "metadata": {
        "id": "oSIlUx934BUh"
      },
      "outputs": [],
      "source": [
        "# Load the CIFAR dataset\n",
        "cifar = fetch_openml('cifar_10_small', version=1)\n",
        "X, y = cifar.data, cifar.target\n",
        "\n",
        "print(X.shape)\n",
        "print(y.shape)"
      ]
    },
    {
      "cell_type": "code",
      "execution_count": null,
      "metadata": {
        "id": "j5EUudPg6uQ4"
      },
      "outputs": [],
      "source": [
        "# Convert input features and labels to NumPy arrays so that data \"plays nice\" with libraries\n",
        "X = np.array(X)\n",
        "y = np.array(y)"
      ]
    },
    {
      "cell_type": "markdown",
      "metadata": {
        "id": "wv4-xpWS5rjU"
      },
      "source": [
        "The cell below visualizes the images."
      ]
    },
    {
      "cell_type": "code",
      "execution_count": null,
      "metadata": {
        "id": "NNyapdky39dH"
      },
      "outputs": [],
      "source": [
        "def visualize_images(X, y, num_rows=2, num_cols=5):\n",
        "    fig, axes = plt.subplots(num_rows, num_cols, figsize=(15, 6))\n",
        "\n",
        "    # Plot each image\n",
        "    for i, ax in enumerate(axes.ravel()):\n",
        "        if i < len(X):\n",
        "\n",
        "            # Creating the image\n",
        "            img = np.stack([X[i].reshape(3,32, 32)[0], X[i].reshape(3,32, 32)[1], X[i].reshape(3,32, 32)[2]], axis=2)\n",
        "\n",
        "            # Display the image\n",
        "            ax.imshow(img)\n",
        "            label = str(int(float(y[i])))\n",
        "\n",
        "            ax.axis('off')\n",
        "\n",
        "    plt.tight_layout()\n",
        "    plt.show()\n",
        "\n",
        "# Visualize first 10 images\n",
        "visualize_images(X, y)"
      ]
    },
    {
      "cell_type": "markdown",
      "metadata": {
        "id": "O31GlcIJs2nv"
      },
      "source": [
        "#### 2.1 Split the data into training and testing sets. [0.5 pts]"
      ]
    },
    {
      "cell_type": "code",
      "execution_count": null,
      "metadata": {
        "id": "buW9FlBX4HeS"
      },
      "outputs": [],
      "source": [
        "X_train, X_test, y_train, y_test = ..."
      ]
    },
    {
      "cell_type": "markdown",
      "metadata": {
        "id": "RESNhl_wtHZO"
      },
      "source": [
        "#### 2.2 Scale the data using a StandardScaler. [0.5 pts]"
      ]
    },
    {
      "cell_type": "code",
      "execution_count": null,
      "metadata": {
        "id": "h560hvQ94J3X"
      },
      "outputs": [],
      "source": [
        "scaler = StandardScaler()\n",
        "X_train = ...\n",
        "X_test = ..."
      ]
    },
    {
      "cell_type": "markdown",
      "metadata": {
        "id": "Bg70vAbqtOPl"
      },
      "source": [
        "#### 2.3 Initialize and train an MLPClassifier model. [2 pts]\n",
        "\n",
        "Use the following hyperparameters:\n",
        "* Hidden layer sizes: 256, 128, 64\n",
        "* Maximum iterations: 50\n",
        "\n",
        "Set verbose=True when creating the MLPClassifier to see which iteration of training it is on.\n",
        "This may take around 5 minutes to run."
      ]
    },
    {
      "cell_type": "code",
      "execution_count": null,
      "metadata": {
        "id": "BND6rich4OOT"
      },
      "outputs": [],
      "source": [
        "mlp = ..."
      ]
    },
    {
      "cell_type": "markdown",
      "metadata": {
        "id": "UBHp57P3tU-1"
      },
      "source": [
        "#### 2.4 Evaluate and print the the accuracy of the model. [1 pt]"
      ]
    },
    {
      "cell_type": "code",
      "execution_count": null,
      "metadata": {
        "id": "42j5prHB4QXd"
      },
      "outputs": [],
      "source": [
        "accuracy = ..."
      ]
    },
    {
      "cell_type": "markdown",
      "metadata": {
        "id": "brqXPJTv_WfF"
      },
      "source": [
        "# Part 3: Video (Optional)\n",
        "\n",
        "Tune the hyperparameters of your Multi-layer Perceptron classifier to improve your accuracy from part 2.4. Describe your strategy for doing so."
      ]
    },
    {
      "cell_type": "markdown",
      "metadata": {
        "id": "bG2uQwmO_pRh"
      },
      "source": [
        "LINK TO VIDEO HERE:"
      ]
    }
  ],
  "metadata": {
    "colab": {
      "provenance": []
    },
    "kernelspec": {
      "display_name": "Python 3 (ipykernel)",
      "language": "python",
      "name": "python3"
    },
    "language_info": {
      "codemirror_mode": {
        "name": "ipython",
        "version": 3
      },
      "file_extension": ".py",
      "mimetype": "text/x-python",
      "name": "python",
      "nbconvert_exporter": "python",
      "pygments_lexer": "ipython3",
      "version": "3.12.3"
    },
    "otter": {
      "OK_FORMAT": true,
      "tests": {
        "q1": {
          "name": "q1",
          "points": 1,
          "suites": [
            {
              "cases": [],
              "scored": true,
              "setup": "",
              "teardown": "",
              "type": "doctest"
            }
          ]
        },
        "q10": {
          "name": "q10",
          "points": 1,
          "suites": [
            {
              "cases": [],
              "scored": true,
              "setup": "",
              "teardown": "",
              "type": "doctest"
            }
          ]
        },
        "q11": {
          "name": "q11",
          "points": 0.5,
          "suites": [
            {
              "cases": [],
              "scored": true,
              "setup": "",
              "teardown": "",
              "type": "doctest"
            }
          ]
        },
        "q12": {
          "name": "q12",
          "points": 0.5,
          "suites": [
            {
              "cases": [],
              "scored": true,
              "setup": "",
              "teardown": "",
              "type": "doctest"
            }
          ]
        },
        "q13": {
          "name": "q13",
          "points": 0.5,
          "suites": [
            {
              "cases": [],
              "scored": true,
              "setup": "",
              "teardown": "",
              "type": "doctest"
            }
          ]
        },
        "q14": {
          "name": "q14",
          "points": 0.5,
          "suites": [
            {
              "cases": [],
              "scored": true,
              "setup": "",
              "teardown": "",
              "type": "doctest"
            }
          ]
        },
        "q9": {
          "name": "q9",
          "points": 0.5,
          "suites": [
            {
              "cases": [],
              "scored": true,
              "setup": "",
              "teardown": "",
              "type": "doctest"
            }
          ]
        }
      }
    }
  },
  "nbformat": 4,
  "nbformat_minor": 0
}
